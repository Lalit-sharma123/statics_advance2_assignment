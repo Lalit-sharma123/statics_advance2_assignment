{
  "nbformat": 4,
  "nbformat_minor": 0,
  "metadata": {
    "colab": {
      "provenance": []
    },
    "kernelspec": {
      "name": "python3",
      "display_name": "Python 3"
    },
    "language_info": {
      "name": "python"
    }
  },
  "cells": [
    {
      "cell_type": "markdown",
      "source": [
        "Question 1: Explain the properties of the F-distribution."
      ],
      "metadata": {
        "id": "B27wpBpAMIr9"
      }
    },
    {
      "cell_type": "markdown",
      "source": [
        "Ans 1:The F-distribution, also known as the Fisher-Snedecor distribution, is a continuous probability distribution that arises frequently in statistical analysis. It is characterized by the following properties:\n",
        "\n",
        "1. Shape:\n",
        "\n",
        "The F-distribution is always right-skewed, meaning it has a long tail to the right.\n",
        "The degree of skewness depends on the degrees of freedom associated with the distribution.\n",
        "As the degrees of freedom increase, the F-distribution becomes more symmetrical and approaches a normal distribution.\n",
        "2. Range:\n",
        "\n",
        "The F-distribution is defined for positive values only.\n",
        "The range of the F-distribution is from 0 to infinity.\n",
        "3. Degrees of Freedom:\n",
        "\n",
        "The F-distribution is characterized by two parameters, known as degrees of freedom (df).\n",
        "Numerator degrees of freedom (df1): This represents the degrees of freedom associated with the variance in the numerator of the F-statistic.\n",
        "Denominator degrees of freedom (df2): This represents the degrees of freedom associated with the variance in the denominator of the F-statistic.\n",
        "\n"
      ],
      "metadata": {
        "id": "Uyxn6bkDMPWB"
      }
    },
    {
      "cell_type": "markdown",
      "source": [
        "Question 2:. In which types of statistical tests is the F-distribution used, and why is it appropriate for these tests?"
      ],
      "metadata": {
        "id": "k7e8-u7kMkBm"
      }
    },
    {
      "cell_type": "markdown",
      "source": [
        "Ans 2:The F-distribution is primarily used in two types of statistical tests:\n",
        "\n",
        "1. Analysis of Variance (ANOVA):\n",
        "\n",
        "Purpose: ANOVA is used to compare the means of three or more groups.\n",
        "F-distribution's role: The F-test in ANOVA compares the variability between groups to the variability within groups. A larger F-statistic indicates that the differences between group means are more significant than the differences within groups.\n",
        "2. Testing Equality of Variances:\n",
        "\n",
        "Purpose: This test determines whether the variances of two or more populations are equal.\n",
        "\n",
        "\n"
      ],
      "metadata": {
        "id": "567Mqx3hMuDk"
      }
    },
    {
      "cell_type": "markdown",
      "source": [
        "Question 3: What are the key assumptions required for conducting an F-test to compare the variances of two\n",
        "populations?"
      ],
      "metadata": {
        "id": "9-Q0CZeMM_us"
      }
    },
    {
      "cell_type": "markdown",
      "source": [
        "Ans 3:To conduct an F-test to compare the variances of two populations, the following key assumptions must be met:\n",
        "\n",
        "Independence: The two samples must be independent of each other. This means that the selection of one sample should not influence the selection of the other.\n",
        "Normality: Both populations from which the samples are drawn should be normally distributed. This assumption is crucial for the validity of the F-test, as it relies on the properties of the normal distribution.\n",
        "Equal Variances (Homoscedasticity): This assumption is a bit counterintuitive, as the F-test is specifically designed to test for equal variances. However, the test assumes that if the null hypothesis is true (i.e., the variances are equal), then the F-statistic will follow an F-distribution."
      ],
      "metadata": {
        "id": "L5tOYUKwNIhb"
      }
    },
    {
      "cell_type": "markdown",
      "source": [
        "Question 4:What is the purpose of ANOVA, and how does it differ from a t-test?"
      ],
      "metadata": {
        "id": "ibxL5BI6Ne1x"
      }
    },
    {
      "cell_type": "markdown",
      "source": [
        "Ans 4:ANOVA (Analysis of Variance): Used to compare the means of three or more groups. It determines whether there are statistically significant differences among the means of these groups.\n",
        "\n",
        "t-test: Used to compare the means of two groups. It determines whether the difference between the means of two groups is statistically significant.\n",
        "\n",
        "When to Use Which:\n",
        "\n",
        "Use ANOVA when: You have multiple groups and want to determine if there's a significant difference among their means. For example, comparing the average test scores of students from three different schools.\n",
        "Use a t-test when: You have only two groups and want to compare their means. For example, comparing the average height of men and women.\n",
        "In essence:\n",
        "\n",
        "ANOVA is a broader tool that can handle multiple comparisons.\n",
        "t-test is a more specific tool for pairwise comparisons.\n",
        "\n",
        ""
      ],
      "metadata": {
        "id": "SxOfSaetNmIW"
      }
    },
    {
      "cell_type": "markdown",
      "source": [
        "Question 5: Explain when and why you would use a one-way ANOVA instead of multiple t-tests when comparing more\n",
        "than two groups."
      ],
      "metadata": {
        "id": "syBC1ZoPN8UB"
      }
    },
    {
      "cell_type": "markdown",
      "source": [
        "Ans 5: When to Use One-Way ANOVA:\n",
        "\n",
        "You should use a one-way ANOVA when you want to compare the means of three or more groups to determine if there are significant differences among them. This is the preferred method over conducting multiple t-tests for several reasons:\n",
        "\n",
        "Why One-Way ANOVA is Preferred:\n",
        "\n",
        "Control of Type I Error Rate:\n",
        "\n",
        "Multiple Comparisons Problem: When conducting multiple t-tests, the probability of making a Type I error (falsely rejecting the null hypothesis) increases with each comparison. This is known as the multiple comparisons problem.\n",
        "ANOVA's Advantage: ANOVA controls the overall Type I error rate, ensuring that the probability of making at least one Type I error across all comparisons remains at the specified significance level (e.g., 0.05).\n",
        "Increased Statistical Power:\n",
        "\n",
        "Pooling Variability: ANOVA pools the variability within each group to estimate the overall variability, which can increase the power of the test to detect significant differences.\n",
        "Efficiency: This pooled estimate of variability is more efficient than conducting multiple pairwise comparisons, as it reduces the impact of individual group variability.\n",
        "Simplicity and Clarity:\n",
        "\n",
        "Single Test: ANOVA provides a single test statistic (the F-statistic) and a single p-value to assess the overall significance of the group differences.\n",
        "Clear Interpretation: This simplifies the interpretation of results compared to multiple t-tests, which can be more complex and prone to confusion.\n",
        "In summary, one-way ANOVA is a more powerful and statistically sound approach than conducting multiple t-tests when comparing more than two groups.\n",
        "\n",
        ""
      ],
      "metadata": {
        "id": "Gjq31ngTOFes"
      }
    },
    {
      "cell_type": "markdown",
      "source": [
        "Question 6:Explain how variance is partitioned in ANOVA into between-group variance and within-group variance.\n",
        "How does this partitioning contribute to the calculation of the F-statistic"
      ],
      "metadata": {
        "id": "WPffuyF8OhVx"
      }
    },
    {
      "cell_type": "markdown",
      "source": [
        "Ans 6:Partitioning Variance in ANOVA\n",
        "In ANOVA, the total variance in a dataset is partitioned into two components:\n",
        "\n",
        "Between-Group Variance: This measures the variability between the means of different groups. It represents the differences in the average values of the dependent variable across the different groups.\n",
        "Within-Group Variance: This measures the variability within each group. It represents the random variation or error that exists within each group, independent of the group membership.\n",
        "How this Partitioning Relates to the F-statistic:\n",
        "\n",
        "The F-statistic is calculated as the ratio of the mean square between groups (MSB) to the mean square within groups (MSW)"
      ],
      "metadata": {
        "id": "ZxxmbHQ-O0YS"
      }
    },
    {
      "cell_type": "markdown",
      "source": [
        "Question 7:Compare the classical (frequentist) approach to ANOVA with the Bayesian approach. What are the key\n",
        "differences in terms of how they handle uncertainty, parameter estimation, and hypothesis testing?"
      ],
      "metadata": {
        "id": "6AEC6gF4O4jL"
      }
    },
    {
      "cell_type": "markdown",
      "source": [
        "Ans 7: Classical (Frequentist) ANOVA\n",
        "Uncertainty: Uncertainty is expressed in terms of p-values and confidence intervals. These are calculated based on the assumption of a fixed, unknown parameter.\n",
        "\n",
        "Parameter Estimation: Parameters are estimated using point estimates (e.g., sample mean, sample variance). These point estimates are considered the best guess for the true population parameter.\n",
        "\n",
        "Hypothesis Testing: Hypothesis testing involves setting up null and alternative hypotheses, calculating a test statistic (e.g., F-statistic), and determining the p-value. A small p-value leads to the rejection of the null hypothesis.\n",
        "\n",
        "\n",
        "Bayesian ANOVA\n",
        "Uncertainty: Uncertainty is expressed in terms of probability distributions. Bayesian methods provide a probability distribution for the parameter, reflecting the uncertainty about its true value.\n",
        "\n",
        "Parameter Estimation: Parameters are treated as random variables. Bayesian methods use Bayes' theorem to update prior beliefs about the parameter with new data, resulting in a posterior distribution. This posterior distribution represents the updated belief about the parameter's value.\n",
        "\n",
        "Hypothesis Testing: Bayesian hypothesis testing involves calculating the Bayes factor, which compares the evidence for the null hypothesis to the evidence for the alternative hypothesis. A Bayes factor greater than 1 favors the alternative hypothesis, while a Bayes factor less than 1 favors the null hypothesis."
      ],
      "metadata": {
        "id": "l_4zobNgO_UB"
      }
    },
    {
      "cell_type": "markdown",
      "source": [
        "Question 8:Question: You have two sets of data representing the incomes of two different professions1\n",
        "V Profession A: [48, 52, 55, 60, 62'\n",
        "V Profession B: [45, 50, 55, 52, 47] Perform an F-test to determine if the variances of the two professions'\n",
        "incomes are equal. What are your conclusions based on the F-test?\n",
        "\n",
        "Task: Use Python to calculate the F-statistic and p-value for the given data.\n",
        "\n",
        "Objective: Gain experience in performing F-tests and interpreting the results in terms of variance comparison"
      ],
      "metadata": {
        "id": "AGxIm-pHPQvk"
      }
    },
    {
      "cell_type": "code",
      "source": [
        "from scipy.stats import f_oneway\n",
        "\n",
        "# Data for Profession A and Profession B\n",
        "profession_a = [48, 52, 55, 60, 62]\n",
        "profession_b = [45, 50, 55, 52, 47]\n",
        "\n",
        "# Perform the F-test\n",
        "f_statistic, p_value = f_oneway(profession_a, profession_b)\n",
        "\n",
        "print(\"F-statistic:\", f_statistic)\n",
        "print(\"p-value:\", p_value)"
      ],
      "metadata": {
        "colab": {
          "base_uri": "https://localhost:8080/"
        },
        "id": "ZmaeFYxePXtg",
        "outputId": "dcaa4458-9521-4098-dcce-5febf72c5e92"
      },
      "execution_count": 1,
      "outputs": [
        {
          "output_type": "stream",
          "name": "stdout",
          "text": [
            "F-statistic: 3.232989690721649\n",
            "p-value: 0.10987970118946545\n"
          ]
        }
      ]
    },
    {
      "cell_type": "markdown",
      "source": [
        "Question 9: Question: Conduct a one-way ANOVA to test whether there are any statistically significant differences in\n",
        "average heights between three different regions with the following data1\n",
        "V Region A: [160, 162, 165, 158, 164'\n",
        "V Region B: [172, 175, 170, 168, 174'\n",
        "V Region C: [180, 182, 179, 185, 183'\n",
        "V Task: Write Python code to perform the one-way ANOVA and interpret the results\n",
        "V Objective: Learn how to perform one-way ANOVA using Python and interpret F-statistic and p-value."
      ],
      "metadata": {
        "id": "h_EpUCdpPtNR"
      }
    },
    {
      "cell_type": "code",
      "source": [
        "from scipy.stats import f_oneway\n",
        "\n",
        "# Data for the three regions\n",
        "region_a = [160, 162, 165, 158, 164]\n",
        "region_b = [172, 175, 170, 168, 174]\n",
        "region_c = [180, 182, 179, 185, 183]\n",
        "\n",
        "# Perform one-way ANOVA\n",
        "f_statistic, p_value = f_oneway(region_a, region_b, region_c)\n",
        "\n",
        "print(\"F-statistic:\", f_statistic)\n",
        "print(\"p-value:\", p_value)"
      ],
      "metadata": {
        "colab": {
          "base_uri": "https://localhost:8080/"
        },
        "id": "MMTu9cqZQBYq",
        "outputId": "1d09a36d-b617-4b11-bfb6-830e3897e1c5"
      },
      "execution_count": 2,
      "outputs": [
        {
          "output_type": "stream",
          "name": "stdout",
          "text": [
            "F-statistic: 67.87330316742101\n",
            "p-value: 2.870664187937026e-07\n"
          ]
        }
      ]
    },
    {
      "cell_type": "code",
      "source": [],
      "metadata": {
        "id": "HCv8Ux4-QFwr"
      },
      "execution_count": null,
      "outputs": []
    }
  ]
}